{
  "cells": [
    {
      "cell_type": "markdown",
      "metadata": {
        "id": "view-in-github",
        "colab_type": "text"
      },
      "source": [
        "<a href=\"https://colab.research.google.com/github/ulisesfm-py/XCS224N-Handouts/blob/main/parser_visualization.ipynb\" target=\"_parent\"><img src=\"https://colab.research.google.com/assets/colab-badge.svg\" alt=\"Open In Colab\"/></a>"
      ]
    },
    {
      "cell_type": "markdown",
      "metadata": {
        "id": "LnB3oY911zyP"
      },
      "source": [
        "# Neural Dependency Parser visualization"
      ]
    },
    {
      "cell_type": "code",
      "execution_count": null,
      "metadata": {
        "id": "MAcx62yB1zyR"
      },
      "outputs": [],
      "source": [
        "import argparse\n",
        "import math\n",
        "import os\n",
        "import sys\n",
        "import time\n",
        "from datetime import datetime\n",
        "\n",
        "from torch import nn, optim\n",
        "from tqdm import tqdm\n",
        "\n",
        "from submission import (AverageMeter, ParserModel, load_and_preprocess_data,\n",
        "                        minibatches, train)"
      ]
    },
    {
      "cell_type": "code",
      "execution_count": null,
      "metadata": {
        "id": "xu0Q65S01zyS"
      },
      "outputs": [],
      "source": [
        "!conda install pygraphviz"
      ]
    },
    {
      "cell_type": "code",
      "execution_count": null,
      "metadata": {
        "id": "Y-tbUr-w1zyS"
      },
      "outputs": [],
      "source": [
        "args_debug = False\n",
        "args_device = \"cpu\""
      ]
    },
    {
      "cell_type": "code",
      "execution_count": null,
      "metadata": {
        "id": "eGOwFagL1zyS"
      },
      "outputs": [],
      "source": [
        "parser, embeddings, train_data, dev_data, test_data = load_and_preprocess_data(\n",
        "    args_debug\n",
        ")"
      ]
    },
    {
      "cell_type": "code",
      "execution_count": null,
      "metadata": {
        "id": "BlZLvGve1zyS"
      },
      "outputs": [],
      "source": [
        "model = ParserModel(embeddings)\n",
        "model.to(args_device)\n",
        "parser.model = model\n",
        "\n",
        "model"
      ]
    },
    {
      "cell_type": "code",
      "execution_count": null,
      "metadata": {
        "id": "N1mPFhkt1zyT"
      },
      "outputs": [],
      "source": [
        "%%time\n",
        "\n",
        "output_dir = \"run_results_jupyter/{:%Y%m%d_%H%M%S}/\".format(datetime.now())\n",
        "output_path = output_dir + \"model.weights\"\n",
        "\n",
        "if not os.path.exists(output_dir):\n",
        "    os.makedirs(output_dir)\n",
        "\n",
        "train(\n",
        "    parser,\n",
        "    train_data,\n",
        "    dev_data,\n",
        "    output_path,\n",
        "    batch_size=1024,\n",
        "    n_epochs=15,\n",
        "    lr=0.0005,\n",
        "    device=args_device,\n",
        ")"
      ]
    },
    {
      "cell_type": "code",
      "execution_count": null,
      "metadata": {
        "id": "ipCPVlHt1zyT"
      },
      "outputs": [],
      "source": [
        "parser.parse(dataset=test_data, device=args_device)"
      ]
    },
    {
      "cell_type": "code",
      "execution_count": null,
      "metadata": {
        "id": "OfaVqYOp1zyT"
      },
      "outputs": [],
      "source": [
        "sample = 150"
      ]
    },
    {
      "cell_type": "code",
      "execution_count": null,
      "metadata": {
        "id": "BskHNUzr1zyU"
      },
      "outputs": [],
      "source": [
        "test_data[sample]"
      ]
    },
    {
      "cell_type": "code",
      "execution_count": null,
      "metadata": {
        "id": "BSy407Xv1zyU"
      },
      "outputs": [],
      "source": [
        "listing = list(\n",
        "    enumerate([parser.id2tok[w_] for w_ in test_data[sample][\"word\"]])\n",
        ")\n",
        "nodedict = {i_: w_ for i_, w_ in listing}\n",
        "legend = \" \".join([str(i_) + \":\" + w_ for i_, w_ in listing])\n",
        "\n",
        "legend, nodedict"
      ]
    },
    {
      "cell_type": "code",
      "execution_count": null,
      "metadata": {
        "id": "Bad9bmab1zyU"
      },
      "outputs": [],
      "source": [
        "edges = parser.parse(\n",
        "    dataset=test_data[sample : sample + 1], device=args_device\n",
        ")[1][0]\n",
        "edges"
      ]
    },
    {
      "cell_type": "code",
      "execution_count": null,
      "metadata": {
        "id": "GhQaizDG1zyU"
      },
      "outputs": [],
      "source": [
        "import networkx as nx\n",
        "\n",
        "G = nx.DiGraph()\n",
        "\n",
        "[G.add_node(nodedict[i_]) for i_, _ in listing]\n",
        "[G.add_edge(nodedict[n1_], nodedict[n2_]) for n1_, n2_ in edges]\n",
        "list(G.edges())"
      ]
    },
    {
      "cell_type": "code",
      "execution_count": null,
      "metadata": {
        "id": "hUlrjHd21zyV"
      },
      "outputs": [],
      "source": [
        "import matplotlib.pyplot as plt\n",
        "from networkx.drawing.nx_agraph import graphviz_layout\n",
        "\n",
        "\n",
        "pos = graphviz_layout(G, prog=\"dot\", root=0)\n",
        "nx.draw(\n",
        "    G, with_labels=True, font_weight=\"bold\", pos=pos, node_color=\"lightblue\"\n",
        ")\n",
        "plt.title(legend)\n",
        "plt.show()"
      ]
    },
    {
      "cell_type": "code",
      "execution_count": null,
      "metadata": {
        "id": "4gfuN05I1zyV"
      },
      "outputs": [],
      "source": [
        "import matplotlib.pyplot as plt\n",
        "from networkx.drawing.nx_agraph import graphviz_layout\n",
        "import networkx as nx\n",
        "import textwrap\n",
        "\n",
        "\n",
        "def render_sample(parser, dataset, sample, device):\n",
        "    words = [parser.id2tok[w_] for w_ in dataset[sample][\"word\"]]\n",
        "\n",
        "    edges = parser.parse(dataset=dataset[sample : sample + 1], device=device)[\n",
        "        1\n",
        "    ][0]\n",
        "\n",
        "    words_unique = []\n",
        "    word_counter = {}\n",
        "    for w_ in words:\n",
        "        word_counter.update({w_: word_counter.get(w_, 0) + 1})\n",
        "        if word_counter[w_] > 1:\n",
        "            words_unique.append(w_ + \"[\" + str(word_counter[w_]) + \"]\")\n",
        "        else:\n",
        "            words_unique.append(w_)\n",
        "\n",
        "    listing = list(enumerate(words_unique))\n",
        "    nodedict = {i_: w_ for i_, w_ in listing}\n",
        "    legend = \" \".join([w_ for _, w_ in listing])\n",
        "\n",
        "    G = nx.DiGraph()\n",
        "    [G.add_node(nodedict[i_]) for i_, _ in listing]\n",
        "    [G.add_edge(nodedict[n1_], nodedict[n2_]) for n1_, n2_ in edges]\n",
        "\n",
        "    try:\n",
        "        pos = graphviz_layout(G, prog=\"dot\", root=0)\n",
        "        nx.draw(\n",
        "            G,\n",
        "            with_labels=True,\n",
        "            font_weight=\"bold\",\n",
        "            pos=pos,\n",
        "            node_color=\"lightblue\",\n",
        "            font_size=8,\n",
        "        )\n",
        "    except TypeError:\n",
        "        nx.draw(\n",
        "            G,\n",
        "            with_labels=True,\n",
        "            font_weight=\"bold\",\n",
        "            node_color=\"lightblue\",\n",
        "            font_size=8,\n",
        "        )\n",
        "\n",
        "    plt.title(\n",
        "        \"\\n\".join(textwrap.wrap(legend, width=60)).replace(\"$\", \"\\$\"),\n",
        "        fontweight=\"bold\",\n",
        "    )\n",
        "    plt.show()"
      ]
    },
    {
      "cell_type": "code",
      "execution_count": null,
      "metadata": {
        "id": "GF96o0-61zyV"
      },
      "outputs": [],
      "source": [
        "render_sample(parser=parser, dataset=test_data, sample=5, device=args_device)"
      ]
    },
    {
      "cell_type": "code",
      "execution_count": null,
      "metadata": {
        "id": "pAiLSwXD1zyW"
      },
      "outputs": [],
      "source": [
        "render_sample(parser=parser, dataset=test_data, sample=210, device=args_device)"
      ]
    },
    {
      "cell_type": "code",
      "execution_count": null,
      "metadata": {
        "id": "C_f9Uhjb1zyW"
      },
      "outputs": [],
      "source": [
        "render_sample(parser=parser, dataset=test_data, sample=291, device=args_device)"
      ]
    },
    {
      "cell_type": "code",
      "execution_count": null,
      "metadata": {
        "id": "z-wWK8AE1zyW"
      },
      "outputs": [],
      "source": [
        "render_sample(parser=parser, dataset=test_data, sample=667, device=args_device)"
      ]
    },
    {
      "cell_type": "code",
      "execution_count": null,
      "metadata": {
        "id": "2gOesr9P1zyW"
      },
      "outputs": [],
      "source": [
        "render_sample(parser=parser, dataset=test_data, sample=999, device=args_device)"
      ]
    }
  ],
  "metadata": {
    "kernelspec": {
      "display_name": "XCS224N",
      "language": "python",
      "name": "python3"
    },
    "language_info": {
      "codemirror_mode": {
        "name": "ipython",
        "version": 3
      },
      "file_extension": ".py",
      "mimetype": "text/x-python",
      "name": "python",
      "nbconvert_exporter": "python",
      "pygments_lexer": "ipython3",
      "version": "3.8.18"
    },
    "orig_nbformat": 4,
    "colab": {
      "provenance": [],
      "include_colab_link": true
    }
  },
  "nbformat": 4,
  "nbformat_minor": 0
}